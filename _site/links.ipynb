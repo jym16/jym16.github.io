{
  "cells": [
    {
      "cell_type": "markdown",
      "metadata": {},
      "source": [
        "# Links\n",
        "\n",
        "#### \\[Affiliations\\]\n",
        "\n",
        "-   [Central European University](https://www.ceu.edu/) \\| [Department\n",
        "    of Network and Data Science](https://networkdatascience.ceu.edu/)\n",
        "\n",
        "-   [Queen Mary University of London](https://www.qmul.ac.uk/) \\|\n",
        "    [School of Mathematical Sciences](https://www.qmul.ac.uk/maths/)\n",
        "\n",
        "-   [Hokkaido University](https://www.global.hokudai.ac.jp/) \\|\n",
        "    [Division of Applied Physics](https://applphys.net/diven/) \\|\n",
        "    [Laboratory of Condensed Matter\n",
        "    Physics](https://subutu-ap.eng.hokudai.ac.jp/index.html)\n",
        "\n",
        "#### \\[Collaborators\\]\n",
        "\n",
        "-   [Prof. Márton\n",
        "    Pósfai](https://networkdatascience.ceu.edu/people/marton-posfai)\n",
        "\n",
        "-   [Prof. János\n",
        "    Kertész](https://networkdatascience.ceu.edu/people/janos-kertesz)\n",
        "\n",
        "-   [Prof. Ginestra\n",
        "    Bianconi](https://www.qmul.ac.uk/maths/profiles/bianconig.html)\n",
        "\n",
        "-   [Prof. Kousuke Yakubo](https://researchmap.jp/read0166630?lang=en)\n",
        "\n",
        "#### \\[Societies\\]\n",
        "\n",
        "-   [ネットワーク科学研究会 (Japanese Network Science\n",
        "    Society)](https://www.network-science-seminar.com/)\n",
        "-   [ドイツ物理学・応用物理学セミナー (Physics and Applied Physics\n",
        "    Seminar in Germany for Japanese\n",
        "    Researchers)](https://sites.google.com/site/jpsingermany/home)"
      ],
      "id": "f6453b6e-311e-4932-96c4-bba5b1808746"
    }
  ],
  "nbformat": 4,
  "nbformat_minor": 5,
  "metadata": {
    "kernelspec": {
      "display_name": "Python 3",
      "language": "python",
      "name": "python3"
    }
  }
}