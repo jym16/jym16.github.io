{
  "cells": [
    {
      "cell_type": "markdown",
      "metadata": {},
      "source": [
        "# Links\n",
        "\n",
        "#### \\[Affiliations\\]\n",
        "\n",
        "-   [Central European University](https://www.ceu.edu/) \\| [Department\n",
        "    of Network and Data Science](https://networkdatascience.ceu.edu/)\n",
        "-   [Queen Mary University of London](https://www.qmul.ac.uk/) \\|\n",
        "    [School of Mathematical Sciences](https://www.qmul.ac.uk/maths/)\n",
        "-   [Hokkaido University](https://www.global.hokudai.ac.jp/) \\|\n",
        "    [Division of Applied Physics](https://applphys.net/diven/) \\|\n",
        "    [Laboratory of Condensed Matter\n",
        "    Physics](https://subutu-ap.eng.hokudai.ac.jp/index.html)\n",
        "\n",
        "#### \\[Societies\\]\n",
        "\n",
        "-   [Network Science Society](https://www.netscisociety.net/home)\n",
        "-   [Austrian Physical Society](https://oepg.at/en)\n",
        "-   [日本物理学会 (Japanese Physical Society)](https://www.jps.or.jp/)\n",
        "-   [ネットワーク科学研究会 (Japanese Network Science\n",
        "    Society)](https://www.network-science-seminar.com/)\n",
        "-   [ネットワーク生態学研究会・ネットワーク科学勉強会](https://sites.google.com/view/networkpaperreading/)\n",
        "-   [ドイツ物理学・応用物理学セミナー (Physics and Applied Physics\n",
        "    Seminar in Germany for Japanese\n",
        "    Researchers)](https://sites.google.com/site/jpsingermany/home)\n",
        "\n",
        "#### \\[Collaborators & Mentors\\]\n",
        "\n",
        "-   [Prof. Márton\n",
        "    Pósfai](https://networkdatascience.ceu.edu/people/marton-posfai)\n",
        "-   [Prof. János\n",
        "    Kertész](https://networkdatascience.ceu.edu/people/janos-kertesz)\n",
        "-   [Prof. Ginestra\n",
        "    Bianconi](https://www.qmul.ac.uk/maths/profiles/bianconig.html)\n",
        "-   [Prof. Albert-László Barabási](https://barabasi.com/)\n",
        "-   [Prof. Kousuke Yakubo](https://researchmap.jp/read0166630?lang=en)\n",
        "-   [Prof. Shogo Mizutaka](https://mizutaka.cis.ibaraki.ac.jp/)\n",
        "-   [Prof. Takehisa\n",
        "    Hasegawa](https://takehisahasegawa.sci.ibaraki.ac.jp/)"
      ],
      "id": "f2d14d13-88a2-4087-8726-bb646e8ee1db"
    }
  ],
  "nbformat": 4,
  "nbformat_minor": 5,
  "metadata": {
    "kernelspec": {
      "display_name": "Python 3",
      "language": "python",
      "name": "python3"
    }
  }
}