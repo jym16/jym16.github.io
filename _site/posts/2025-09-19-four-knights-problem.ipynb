{
  "cells": [
    {
      "cell_type": "markdown",
      "metadata": {},
      "source": [
        "# On the four knight problem\n",
        "\n",
        "Thanks to [Lovro Šubelj](https://lovro.fri.uni-lj.si/), I came across\n",
        "the four knights problem for the first time in almost a decade.\n",
        "\n",
        "The problem states as follows:\n",
        "\n",
        "> \n",
        "\n",
        "I was quite excited to see the problem once again as an introductory\n",
        "material for Lovro’s course on machine learning with graphs, as the\n",
        "problem drew me into graph theory a decade ago when I was still in high\n",
        "school. At the same time, I was quite shocked that not many students in\n",
        "our department knew about it. To me, the problem represented a prime\n",
        "example that demonstrates how graph or network representations can\n",
        "better help solve problems than typical Euclidean space representations."
      ],
      "id": "fc8ed523-c2cb-45a2-90ac-907648114f31"
    }
  ],
  "nbformat": 4,
  "nbformat_minor": 5,
  "metadata": {
    "kernelspec": {
      "display_name": "Python 3",
      "language": "python",
      "name": "python3"
    }
  }
}