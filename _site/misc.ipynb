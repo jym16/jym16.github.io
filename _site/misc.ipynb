{
  "cells": [
    {
      "cell_type": "markdown",
      "metadata": {},
      "source": [
        "# Misc."
      ],
      "id": "4efe7ae9-b3e3-4dd1-be39-2993b4d3993d"
    }
  ],
  "nbformat": 4,
  "nbformat_minor": 5,
  "metadata": {
    "kernelspec": {
      "display_name": "Python 3",
      "language": "python",
      "name": "python3"
    }
  }
}