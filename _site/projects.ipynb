{
  "cells": [
    {
      "cell_type": "markdown",
      "metadata": {},
      "source": [
        "# Projects\n",
        "\n",
        "under construction…\n",
        "\n",
        "### Physical Networks\n",
        "\n",
        "#### Localization\n",
        "\n",
        "#### Synchronization\n",
        "\n",
        "#### Magnetization\n",
        "\n",
        "#### Entanglement"
      ],
      "id": "2bf34c06-b2ef-4a0a-800c-26c249506097"
    },
    {
      "cell_type": "raw",
      "metadata": {
        "raw_mimetype": "text/html"
      },
      "source": [
        "<!-- ### Magnetic reversal dynamics on bulk magnets -->"
      ],
      "id": "72a81ff8-81cf-4e61-ab71-170a4483c183"
    },
    {
      "cell_type": "markdown",
      "metadata": {},
      "source": [
        "### Higher-Order Networks\n",
        "\n",
        "#### Diffusion on networks with triadic interactions\n",
        "\n",
        "(Baptista et al. 2024)\n",
        "\n",
        "### (Bi)Fractal Networks\n",
        "\n",
        "#### Structural properties\n",
        "\n",
        "(Yamamoto and Yakubo 2023)\n",
        "\n",
        "#### Random walks\n",
        "\n",
        "(Yakubo, Shimojo, and Yamamoto 2024)\n",
        "\n",
        "Baptista, Anthony, Marta Niedostatek, Jun Yamamoto, Ben MacArthur,\n",
        "Jürgen Kurths, Ruben Sanchez-Garcia, and Ginestra Bianconi. 2024.\n",
        "“Mining Higher-Order Triadic Interactions.” *arXiv Preprint\n",
        "arXiv:2404.14997 \\[Nlin.AO\\]*.\n",
        "\n",
        "Yakubo, Kousuke, Gentaro Shimojo, and Jun Yamamoto. 2024. “Random Walks\n",
        "on Bifractal Networks.” *Phys. Rev. E* 110 (December): 064318.\n",
        "<https://doi.org/10.1103/PhysRevE.110.064318>.\n",
        "\n",
        "Yamamoto, Jun, and Kousuke Yakubo. 2023. “Bifractality of Fractal\n",
        "Scale-Free Networks.” *Phys. Rev. E* 108: 024302.\n",
        "<https://doi.org/10.1103/PhysRevE.108.024302>."
      ],
      "id": "035f9d25-0572-4012-a6c6-ec402276e189"
    }
  ],
  "nbformat": 4,
  "nbformat_minor": 5,
  "metadata": {
    "kernelspec": {
      "display_name": "Python 3",
      "language": "python",
      "name": "python3"
    }
  }
}