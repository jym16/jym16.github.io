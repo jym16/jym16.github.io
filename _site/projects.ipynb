{
  "cells": [
    {
      "cell_type": "markdown",
      "metadata": {},
      "source": [
        "# Projects\n",
        "\n",
        "under construction…\n",
        "\n",
        "### Physical Networks\n",
        "\n",
        "#### Localization\n",
        "\n",
        "#### Synchronization\n",
        "\n",
        "#### Magnetization\n",
        "\n",
        "#### Entanglement"
      ],
      "id": "56bf57cc-8e02-42a5-9680-ee5eda592956"
    },
    {
      "cell_type": "raw",
      "metadata": {
        "raw_mimetype": "text/html"
      },
      "source": [
        "<!-- ### Magnetic reversal dynamics on bulk magnets -->"
      ],
      "id": "4fe6fb42-db86-4ffb-9cc5-cdfb58cb854e"
    },
    {
      "cell_type": "markdown",
      "metadata": {},
      "source": [
        "### Higher-Order Networks\n",
        "\n",
        "#### Diffusion on networks with triadic interactions\n",
        "\n",
        "(Baptista et al. 2024)\n",
        "\n",
        "### (Bi)Fractal Networks\n",
        "\n",
        "#### Structural properties\n",
        "\n",
        "(Yamamoto and Yakubo 2023)\n",
        "\n",
        "#### Random walks\n",
        "\n",
        "(Yakubo, Shimojo, and Yamamoto 2024)\n",
        "\n",
        "Baptista, Anthony, Marta Niedostatek, Jun Yamamoto, Ben MacArthur,\n",
        "Jürgen Kurths, Ruben Sanchez-Garcia, and Ginestra Bianconi. 2024.\n",
        "“Mining Higher-Order Triadic Interactions.” *arXiv Preprint\n",
        "arXiv:2404.14997 \\[Nlin.AO\\]*.\n",
        "\n",
        "Yakubo, Kousuke, Gentaro Shimojo, and Jun Yamamoto. 2024. “Random Walks\n",
        "on Bifractal Networks.” *Phys. Rev. E* 110 (December): 064318.\n",
        "<https://doi.org/10.1103/PhysRevE.110.064318>.\n",
        "\n",
        "Yamamoto, Jun, and Kousuke Yakubo. 2023. “Bifractality of Fractal\n",
        "Scale-Free Networks.” *Phys. Rev. E* 108: 024302.\n",
        "<https://doi.org/10.1103/PhysRevE.108.024302>."
      ],
      "id": "425de248-ac88-492c-9f92-c36e991100a6"
    }
  ],
  "nbformat": 4,
  "nbformat_minor": 5,
  "metadata": {
    "kernelspec": {
      "display_name": "Python 3",
      "language": "python",
      "name": "python3"
    }
  }
}