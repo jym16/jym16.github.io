{
  "cells": [
    {
      "cell_type": "markdown",
      "metadata": {},
      "source": [
        "# Publications\n",
        "\n",
        "### In Preparation\n",
        "\n",
        "**Jun Yamamoto**, Ivan Bonamassa, M. Posfai “Localization-delocalization\n",
        "transition in physical networks.” In preparation.\n",
        "\n",
        "### Preprints\n",
        "\n",
        "Marta Niedostatek, Anthony Baptista, **Jun Yamamoto**, Jurgen Kurths,\n",
        "Ruben Sanchez Garcia, Ben MacArthur, and Ginestra Bianconi. “Mining\n",
        "higher-order triadic interactions.” arXiv preprint arXiv:2404.14997\n",
        "(2024). \\[[arXiv](https://doi.org/10.48550/arXiv.2404.14997)\\]\n",
        "\n",
        "### 2024\n",
        "\n",
        "Kousuke Yakubo, Gentaro Shimojo, **Jun Yamamoto**. “Random walks on\n",
        "bifractal networks.” Physical Review E **110**, 064318 (2024).\n",
        "\\[[paper](https://doi.org/10.1103/PhysRevE.110.064318)\\]\n",
        "\\[[arXiv](https://doi.org/10.48550/arXiv.2407.16183)\\]\n",
        "\n",
        "### 2023\n",
        "\n",
        "**Jun Yamamoto**. “Modelling Higher-Order Network Dynamics in Presence\n",
        "of Triadic Interactions.” Master Dissertation, Queen Mary University of\n",
        "London (2023). \\[[pdf](./assets/files/thesis/MSc_dissertation.pdf)\\]\n",
        "\n",
        "**Jun Yamamoto** and Kousuke Yakubo. “Bifractality of fractal scale-free\n",
        "networks.” Physical Review E **108**, 024302 (2023).\n",
        "\\[[paper](https://doi.org/10.1103/PhysRevE.108.024302)\\]\n",
        "\\[[arXiv](https://doi.org/10.48550/arXiv.2304.13438)\\]\n",
        "\n",
        "### 2022\n",
        "\n",
        "**Jun Yamamoto**. “Bifractality of fractal scale-free networks.”\n",
        "Bachelor Thesis, Hokkaido University (2022).\n",
        "\\[[pdf](./assets/files/thesis/BEng_thesis.pdf)\\]"
      ],
      "id": "31e03ff8-1725-4e79-b09b-ef94a89f0524"
    }
  ],
  "nbformat": 4,
  "nbformat_minor": 5,
  "metadata": {
    "kernelspec": {
      "display_name": "Python 3",
      "language": "python",
      "name": "python3"
    }
  }
}